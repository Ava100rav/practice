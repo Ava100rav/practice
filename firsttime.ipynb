{
 "cells": [
  {
   "cell_type": "code",
   "execution_count": 1,
   "id": "688e3afa",
   "metadata": {},
   "outputs": [
    {
     "name": "stdout",
     "output_type": "stream",
     "text": [
      "72\n"
     ]
    }
   ],
   "source": [
    " print(8*9)"
   ]
  },
  {
   "cell_type": "code",
   "execution_count": 11,
   "id": "ea738c4f",
   "metadata": {},
   "outputs": [
    {
     "name": "stdout",
     "output_type": "stream",
     "text": [
      "[2, 3, 5, 'kolkata', 6, 99]\n",
      "kolkata\n"
     ]
    }
   ],
   "source": [
    "list1 = [2,3,5,\"kolkata\",6,99]\n",
    "print(list1)\n",
    "print(list1[3])\n"
   ]
  },
  {
   "cell_type": "code",
   "execution_count": 24,
   "id": "d60ece8b",
   "metadata": {},
   "outputs": [
    {
     "name": "stdout",
     "output_type": "stream",
     "text": [
      "[8, 9, ['saurav', 34, 89, 'kumar']]\n",
      "\n",
      "\n",
      "[8, 9, ['saurav', 34, 89, 'kumar']] 9 ['saurav', 34, 89, 'kumar'] -->>-- 34 saurav \n",
      "\n",
      "\n",
      " kumar\n"
     ]
    }
   ],
   "source": [
    "import numpy as np\n",
    "l1=[8,9,[\"saurav\",34,89,\"kumar\"]]\n",
    "print(l1)\n",
    "print(\"\\n\")\n",
    "print(l1,l1[1],l1[2],\"-->>--\",l1[2][1],l1[2][0],\"\\n\")\n",
    "print(\"\\n\",l1[2][3])"
   ]
  },
  {
   "cell_type": "code",
   "execution_count": null,
   "id": "2768bd21",
   "metadata": {},
   "outputs": [],
   "source": []
  }
 ],
 "metadata": {
  "kernelspec": {
   "display_name": "Python 3 (ipykernel)",
   "language": "python",
   "name": "python3"
  },
  "language_info": {
   "codemirror_mode": {
    "name": "ipython",
    "version": 3
   },
   "file_extension": ".py",
   "mimetype": "text/x-python",
   "name": "python",
   "nbconvert_exporter": "python",
   "pygments_lexer": "ipython3",
   "version": "3.9.6"
  }
 },
 "nbformat": 4,
 "nbformat_minor": 5
}
